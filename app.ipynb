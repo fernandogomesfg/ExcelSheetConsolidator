{
 "cells": [
  {
   "cell_type": "markdown",
   "metadata": {},
   "source": [
    "# Projeto ExcelSheetConsolidator\n",
    "\n",
    "## Dúvidas:\n",
    "\n",
    "- Total de colunas: 11\n",
    "    - só muda se houver a solicitação de inclusão de mais campos\n",
    "\n",
    "- Nome da aba é sempre \"dados\"?\n",
    "    - Sim!\n",
    "\n",
    "- Qual é a origem dos relatórios?\n",
    "    - Resp: eles são extraídos do sistema de venda.\n",
    "\n",
    "- Data é a data de realização da venda?\n",
    "    - Sim!\n",
    "    \n",
    "- Quem são os compradores?\n",
    "    - O nome do arquivo tem algo a ver com isso?\n",
    "        - Nome do arquivo é configurado da seguinte forma:\n",
    "        `nome do segmento - país onde foi realizada a venda`\n",
    "\n",
    "## Motivo do Projeto:\n",
    "\n",
    "O projeto \"ExcelSheetConsolidator\" foi concebido para automatizar e simplificar o processo de consolidação de dados provenientes de relatórios de vendas, extraídos de um sistema específico. O objetivo é criar uma planilha consolidada que reúna todas as informações relevantes em um único local, facilitando a análise e o gerenciamento desses dados.\n",
    "\n",
    "### Passo a passo:\n",
    "\n",
    "1. **Criar uma planilha em branco:**\n",
    "   - Iniciar com uma planilha vazia que servirá como destino para os dados consolidados.\n",
    "\n",
    "2. **Replicar as colunas existentes nos relatórios (11 colunas):**\n",
    "   - Garantir que a estrutura da planilha de destino corresponda à dos relatórios originais.\n",
    "\n",
    "3. **Inserir duas colunas novas: Segmento e País:**\n",
    "   - Adicionar colunas adicionais para categorizar os dados por segmento e país, conforme especificado pelos nomes dos arquivos.\n",
    "\n",
    "4. **Percorrer todos os arquivos, copiar os dados e colar na planilha consolidada, preenchendo as informações de segmento e país:**\n",
    "   - Automatizar o processo de leitura e extração de dados de todos os arquivos de relatório, inserindo-os na planilha consolidada e preenchendo automaticamente as informações de segmento e país com base nos nomes dos arquivos.\n",
    "\n",
    "Este projeto visa aumentar a eficiência e a precisão da consolidação de dados, eliminando a necessidade de intervenção manual e reduzindo possíveis erros humanos. Ele proporcionará uma visão abrangente e organizada das vendas, facilitando a tomada de decisões informadas e estratégicas.\n"
   ]
  },
  {
   "cell_type": "code",
   "execution_count": 2,
   "metadata": {},
   "outputs": [],
   "source": [
    "import pandas as pd\n",
    "import os\n",
    "import datetime"
   ]
  },
  {
   "cell_type": "code",
   "execution_count": 3,
   "metadata": {},
   "outputs": [],
   "source": [
    "data = datetime.datetime.now()"
   ]
  },
  {
   "cell_type": "code",
   "execution_count": 4,
   "metadata": {},
   "outputs": [],
   "source": [
    "colunas = [\n",
    "    'Tipo',\n",
    "    'Cidade',\n",
    "    'Produto',\n",
    "    'Qtde de Unidades Vendidas',\n",
    "    'Preço Unitário',\n",
    "    'Valor Total',\n",
    "    'Desconto',\n",
    "    'Valor Total c/ Desconto',\n",
    "    'Custo Total',\n",
    "    'Lucro',\n",
    "    'Data',\n",
    "    'Mês',\n",
    "    'Ano'\n",
    "]\n",
    "consolidado = pd.DataFrame(columns=colunas)\n"
   ]
  },
  {
   "cell_type": "code",
   "execution_count": 5,
   "metadata": {},
   "outputs": [
    {
     "data": {
      "text/plain": [
       "pandas.core.frame.DataFrame"
      ]
     },
     "execution_count": 5,
     "metadata": {},
     "output_type": "execute_result"
    }
   ],
   "source": [
    "type(consolidado)"
   ]
  },
  {
   "cell_type": "code",
   "execution_count": 6,
   "metadata": {},
   "outputs": [
    {
     "data": {
      "text/html": [
       "<div>\n",
       "<style scoped>\n",
       "    .dataframe tbody tr th:only-of-type {\n",
       "        vertical-align: middle;\n",
       "    }\n",
       "\n",
       "    .dataframe tbody tr th {\n",
       "        vertical-align: top;\n",
       "    }\n",
       "\n",
       "    .dataframe thead th {\n",
       "        text-align: right;\n",
       "    }\n",
       "</style>\n",
       "<table border=\"1\" class=\"dataframe\">\n",
       "  <thead>\n",
       "    <tr style=\"text-align: right;\">\n",
       "      <th></th>\n",
       "      <th>Tipo</th>\n",
       "      <th>Cidade</th>\n",
       "      <th>Produto</th>\n",
       "      <th>Qtde de Unidades Vendidas</th>\n",
       "      <th>Preço Unitário</th>\n",
       "      <th>Valor Total</th>\n",
       "      <th>Desconto</th>\n",
       "      <th>Valor Total c/ Desconto</th>\n",
       "      <th>Custo Total</th>\n",
       "      <th>Lucro</th>\n",
       "      <th>Data</th>\n",
       "      <th>Mês</th>\n",
       "      <th>Ano</th>\n",
       "    </tr>\n",
       "  </thead>\n",
       "  <tbody>\n",
       "  </tbody>\n",
       "</table>\n",
       "</div>"
      ],
      "text/plain": [
       "Empty DataFrame\n",
       "Columns: [Tipo, Cidade, Produto, Qtde de Unidades Vendidas, Preço Unitário, Valor Total, Desconto, Valor Total c/ Desconto, Custo Total, Lucro, Data, Mês, Ano]\n",
       "Index: []"
      ]
     },
     "execution_count": 6,
     "metadata": {},
     "output_type": "execute_result"
    }
   ],
   "source": [
    "consolidado"
   ]
  },
  {
   "cell_type": "code",
   "execution_count": 7,
   "metadata": {},
   "outputs": [],
   "source": [
    "arquivos = os.listdir(\"C:\\\\Users\\\\User\\\\Documents\\\\Projectos\\\\Python\\\\ExcelSheetConsolidator\\\\planilhas\")"
   ]
  },
  {
   "cell_type": "code",
   "execution_count": 24,
   "metadata": {},
   "outputs": [
    {
     "name": "stderr",
     "output_type": "stream",
     "text": [
      "C:\\Users\\User\\AppData\\Local\\Temp\\ipykernel_13984\\4017330748.py:13: FutureWarning: The behavior of DataFrame concatenation with empty or all-NA entries is deprecated. In a future version, this will no longer exclude empty or all-NA columns when determining the result dtypes. To retain the old behavior, exclude the relevant entries before the concat operation.\n",
      "  consolidado = pd.concat([consolidado, df])\n"
     ]
    }
   ],
   "source": [
    "for arquivo in arquivos:\n",
    "\n",
    "    dados_arquivos = arquivo.split('-')\n",
    "    tipo = dados_arquivos[0]\n",
    "    cidade = dados_arquivos[1].replace('.xlsx', '')\n",
    "\n",
    "    # print(tipo)\n",
    "    # print(cidade)\n",
    "    df = pd.read_excel(f'planilhas\\\\{arquivo}')\n",
    "    df.insert(0, 'Tipo', tipo)\n",
    "    df.insert(1, 'Cidade', cidade)\n",
    "\n",
    "    consolidado = pd.concat([consolidado, df])"
   ]
  },
  {
   "cell_type": "code",
   "execution_count": 27,
   "metadata": {},
   "outputs": [
    {
     "data": {
      "text/html": [
       "<div>\n",
       "<style scoped>\n",
       "    .dataframe tbody tr th:only-of-type {\n",
       "        vertical-align: middle;\n",
       "    }\n",
       "\n",
       "    .dataframe tbody tr th {\n",
       "        vertical-align: top;\n",
       "    }\n",
       "\n",
       "    .dataframe thead th {\n",
       "        text-align: right;\n",
       "    }\n",
       "</style>\n",
       "<table border=\"1\" class=\"dataframe\">\n",
       "  <thead>\n",
       "    <tr style=\"text-align: right;\">\n",
       "      <th></th>\n",
       "      <th>Tipo</th>\n",
       "      <th>Cidade</th>\n",
       "      <th>Produto</th>\n",
       "      <th>Qtde de Unidades Vendidas</th>\n",
       "      <th>Preço Unitário</th>\n",
       "      <th>Valor Total</th>\n",
       "      <th>Desconto</th>\n",
       "      <th>Valor Total c/ Desconto</th>\n",
       "      <th>Custo Total</th>\n",
       "      <th>Lucro</th>\n",
       "      <th>Data</th>\n",
       "      <th>Mês</th>\n",
       "      <th>Ano</th>\n",
       "    </tr>\n",
       "  </thead>\n",
       "  <tbody>\n",
       "    <tr>\n",
       "      <th>0</th>\n",
       "      <td>Governo</td>\n",
       "      <td>Beira</td>\n",
       "      <td>Produto 1</td>\n",
       "      <td>1618.5</td>\n",
       "      <td>20</td>\n",
       "      <td>32370</td>\n",
       "      <td>0.0</td>\n",
       "      <td>32370.0</td>\n",
       "      <td>17803.5</td>\n",
       "      <td>14566.5</td>\n",
       "      <td>2019-01-01</td>\n",
       "      <td>Janeiro</td>\n",
       "      <td>2019</td>\n",
       "    </tr>\n",
       "    <tr>\n",
       "      <th>1</th>\n",
       "      <td>Governo</td>\n",
       "      <td>Beira</td>\n",
       "      <td>Produto 3</td>\n",
       "      <td>292.0</td>\n",
       "      <td>20</td>\n",
       "      <td>5840</td>\n",
       "      <td>0.0</td>\n",
       "      <td>5840.0</td>\n",
       "      <td>2920.0</td>\n",
       "      <td>2920.0</td>\n",
       "      <td>2019-02-01</td>\n",
       "      <td>Fevereiro</td>\n",
       "      <td>2019</td>\n",
       "    </tr>\n",
       "    <tr>\n",
       "      <th>2</th>\n",
       "      <td>Governo</td>\n",
       "      <td>Beira</td>\n",
       "      <td>Produto 3</td>\n",
       "      <td>1725.0</td>\n",
       "      <td>350</td>\n",
       "      <td>603750</td>\n",
       "      <td>0.0</td>\n",
       "      <td>603750.0</td>\n",
       "      <td>448500.0</td>\n",
       "      <td>155250.0</td>\n",
       "      <td>2018-11-01</td>\n",
       "      <td>Novembro</td>\n",
       "      <td>2018</td>\n",
       "    </tr>\n",
       "  </tbody>\n",
       "</table>\n",
       "</div>"
      ],
      "text/plain": [
       "      Tipo Cidade    Produto  Qtde de Unidades Vendidas Preço Unitário  \\\n",
       "0  Governo  Beira  Produto 1                     1618.5             20   \n",
       "1  Governo  Beira  Produto 3                      292.0             20   \n",
       "2  Governo  Beira  Produto 3                     1725.0            350   \n",
       "\n",
       "  Valor Total  Desconto  Valor Total c/ Desconto  Custo Total     Lucro  \\\n",
       "0       32370       0.0                  32370.0      17803.5   14566.5   \n",
       "1        5840       0.0                   5840.0       2920.0    2920.0   \n",
       "2      603750       0.0                 603750.0     448500.0  155250.0   \n",
       "\n",
       "        Data        Mês   Ano  \n",
       "0 2019-01-01    Janeiro  2019  \n",
       "1 2019-02-01  Fevereiro  2019  \n",
       "2 2018-11-01   Novembro  2018  "
      ]
     },
     "execution_count": 27,
     "metadata": {},
     "output_type": "execute_result"
    }
   ],
   "source": [
    "consolidado.head(3)"
   ]
  },
  {
   "cell_type": "code",
   "execution_count": 29,
   "metadata": {},
   "outputs": [
    {
     "data": {
      "text/plain": [
       "(700, 13)"
      ]
     },
     "execution_count": 29,
     "metadata": {},
     "output_type": "execute_result"
    }
   ],
   "source": [
    "# Numero de linhas e colunas\n",
    "consolidado.shape"
   ]
  },
  {
   "cell_type": "code",
   "execution_count": null,
   "metadata": {},
   "outputs": [],
   "source": []
  }
 ],
 "metadata": {
  "kernelspec": {
   "display_name": "venv",
   "language": "python",
   "name": "python3"
  },
  "language_info": {
   "codemirror_mode": {
    "name": "ipython",
    "version": 3
   },
   "file_extension": ".py",
   "mimetype": "text/x-python",
   "name": "python",
   "nbconvert_exporter": "python",
   "pygments_lexer": "ipython3",
   "version": "3.10.9"
  }
 },
 "nbformat": 4,
 "nbformat_minor": 2
}
