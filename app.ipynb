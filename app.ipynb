{
 "cells": [
  {
   "cell_type": "markdown",
   "metadata": {},
   "source": [
    "# Projeto ExcelSheetConsolidator\n",
    "\n",
    "## Dúvidas:\n",
    "\n",
    "- Total de colunas: 11\n",
    "    - só muda se houver a solicitação de inclusão de mais campos\n",
    "\n",
    "- Nome da aba é sempre \"dados\"?\n",
    "    - Sim!\n",
    "\n",
    "- Qual é a origem dos relatórios?\n",
    "    - Resp: eles são extraídos do sistema de venda.\n",
    "\n",
    "- Data é a data de realização da venda?\n",
    "    - Sim!\n",
    "    \n",
    "- Quem são os compradores?\n",
    "    - O nome do arquivo tem algo a ver com isso?\n",
    "        - Nome do arquivo é configurado da seguinte forma:\n",
    "        `nome do segmento - país onde foi realizada a venda`\n",
    "\n",
    "## Motivo do Projeto:\n",
    "\n",
    "O projeto \"ExcelSheetConsolidator\" foi concebido para automatizar e simplificar o processo de consolidação de dados provenientes de relatórios de vendas, extraídos de um sistema específico. O objetivo é criar uma planilha consolidada que reúna todas as informações relevantes em um único local, facilitando a análise e o gerenciamento desses dados.\n",
    "\n",
    "### Passo a passo:\n",
    "\n",
    "1. **Criar uma planilha em branco:**\n",
    "   - Iniciar com uma planilha vazia que servirá como destino para os dados consolidados.\n",
    "\n",
    "2. **Replicar as colunas existentes nos relatórios (11 colunas):**\n",
    "   - Garantir que a estrutura da planilha de destino corresponda à dos relatórios originais.\n",
    "\n",
    "3. **Inserir duas colunas novas: Segmento e País:**\n",
    "   - Adicionar colunas adicionais para categorizar os dados por segmento e país, conforme especificado pelos nomes dos arquivos.\n",
    "\n",
    "4. **Percorrer todos os arquivos, copiar os dados e colar na planilha consolidada, preenchendo as informações de segmento e país:**\n",
    "   - Automatizar o processo de leitura e extração de dados de todos os arquivos de relatório, inserindo-os na planilha consolidada e preenchendo automaticamente as informações de segmento e país com base nos nomes dos arquivos.\n",
    "\n",
    "Este projeto visa aumentar a eficiência e a precisão da consolidação de dados, eliminando a necessidade de intervenção manual e reduzindo possíveis erros humanos. Ele proporcionará uma visão abrangente e organizada das vendas, facilitando a tomada de decisões informadas e estratégicas.\n"
   ]
  },
  {
   "cell_type": "code",
   "execution_count": 1,
   "metadata": {},
   "outputs": [],
   "source": [
    "import pandas as pd\n",
    "import os\n",
    "import datetime"
   ]
  },
  {
   "cell_type": "code",
   "execution_count": 2,
   "metadata": {},
   "outputs": [],
   "source": [
    "data = datetime.datetime.now()"
   ]
  },
  {
   "cell_type": "code",
   "execution_count": 3,
   "metadata": {},
   "outputs": [],
   "source": [
    "colunas = [\n",
    "    'Segmento',\n",
    "    'País',\n",
    "    'Produto',\n",
    "    'Qtde de Unidades Vendidas',\n",
    "    'Preço Unitário',\n",
    "    'Valor Total',\n",
    "    'Desconto',\n",
    "    'Valor Total c/ Desconto',\n",
    "    'Custo Total',\n",
    "    'Lucro',\n",
    "    'Data',\n",
    "    'Mês',\n",
    "    'Ano'\n",
    "]\n",
    "consolidado = pd.DataFrame(columns=colunas)\n"
   ]
  },
  {
   "cell_type": "code",
   "execution_count": 4,
   "metadata": {},
   "outputs": [
    {
     "data": {
      "text/plain": [
       "pandas.core.frame.DataFrame"
      ]
     },
     "execution_count": 4,
     "metadata": {},
     "output_type": "execute_result"
    }
   ],
   "source": [
    "type(consolidado)"
   ]
  },
  {
   "cell_type": "code",
   "execution_count": 5,
   "metadata": {},
   "outputs": [
    {
     "data": {
      "text/html": [
       "<div>\n",
       "<style scoped>\n",
       "    .dataframe tbody tr th:only-of-type {\n",
       "        vertical-align: middle;\n",
       "    }\n",
       "\n",
       "    .dataframe tbody tr th {\n",
       "        vertical-align: top;\n",
       "    }\n",
       "\n",
       "    .dataframe thead th {\n",
       "        text-align: right;\n",
       "    }\n",
       "</style>\n",
       "<table border=\"1\" class=\"dataframe\">\n",
       "  <thead>\n",
       "    <tr style=\"text-align: right;\">\n",
       "      <th></th>\n",
       "      <th>Segmento</th>\n",
       "      <th>País</th>\n",
       "      <th>Produto</th>\n",
       "      <th>Qtde de Unidades Vendidas</th>\n",
       "      <th>Preço Unitário</th>\n",
       "      <th>Valor Total</th>\n",
       "      <th>Desconto</th>\n",
       "      <th>Valor Total c/ Desconto</th>\n",
       "      <th>Custo Total</th>\n",
       "      <th>Lucro</th>\n",
       "      <th>Data</th>\n",
       "      <th>Mês</th>\n",
       "      <th>Ano</th>\n",
       "    </tr>\n",
       "  </thead>\n",
       "  <tbody>\n",
       "  </tbody>\n",
       "</table>\n",
       "</div>"
      ],
      "text/plain": [
       "Empty DataFrame\n",
       "Columns: [Segmento, País, Produto, Qtde de Unidades Vendidas, Preço Unitário, Valor Total, Desconto, Valor Total c/ Desconto, Custo Total, Lucro, Data, Mês, Ano]\n",
       "Index: []"
      ]
     },
     "execution_count": 5,
     "metadata": {},
     "output_type": "execute_result"
    }
   ],
   "source": [
    "consolidado"
   ]
  },
  {
   "cell_type": "code",
   "execution_count": 9,
   "metadata": {},
   "outputs": [],
   "source": [
    "arquivos = os.listdir(\"C:\\\\Users\\\\User\\\\Documents\\\\Projectos\\\\Python\\\\ExcelSheetConsolidator\\\\planilhas\")"
   ]
  },
  {
   "cell_type": "code",
   "execution_count": 11,
   "metadata": {},
   "outputs": [
    {
     "data": {
      "text/plain": [
       "'Governo-Alemanha.xlsx'"
      ]
     },
     "execution_count": 11,
     "metadata": {},
     "output_type": "execute_result"
    }
   ],
   "source": [
    "arquivos[0]"
   ]
  },
  {
   "cell_type": "code",
   "execution_count": null,
   "metadata": {},
   "outputs": [],
   "source": []
  }
 ],
 "metadata": {
  "kernelspec": {
   "display_name": "venv",
   "language": "python",
   "name": "python3"
  },
  "language_info": {
   "codemirror_mode": {
    "name": "ipython",
    "version": 3
   },
   "file_extension": ".py",
   "mimetype": "text/x-python",
   "name": "python",
   "nbconvert_exporter": "python",
   "pygments_lexer": "ipython3",
   "version": "3.10.9"
  }
 },
 "nbformat": 4,
 "nbformat_minor": 2
}
